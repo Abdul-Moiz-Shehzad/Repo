{
 "cells": [
  {
   "cell_type": "code",
   "execution_count": 74,
   "metadata": {},
   "outputs": [],
   "source": [
    "import nltk\n",
    "from nltk import ngrams\n",
    "from nltk.corpus import stopwords\n",
    "from nltk.stem import WordNetLemmatizer\n",
    "from nltk import FreqDist\n",
    "import string"
   ]
  },
  {
   "cell_type": "code",
   "execution_count": 7,
   "metadata": {},
   "outputs": [
    {
     "data": {
      "text/plain": [
       "[['Machine learning is transforming the way we solve problems'],\n",
       " ['Artificial intelligence is revolutionizing industries like healthcare and finance'],\n",
       " ['Data science enables us to extract insights from large datasets'],\n",
       " ['Natural language processing helps computers understand human language'],\n",
       " ['Deep learning algorithms are improving the accuracy of computer vision tasks']]"
      ]
     },
     "execution_count": 7,
     "metadata": {},
     "output_type": "execute_result"
    }
   ],
   "source": [
    "corpus=[\n",
    "['Machine learning is transforming the way we solve problems'],\n",
    "['Artificial intelligence is revolutionizing industries like healthcare and finance'],\n",
    "['Data science enables us to extract insights from large datasets'],\n",
    "['Natural language processing helps computers understand human language'],\n",
    "['Deep learning algorithms are improving the accuracy of computer vision tasks']\n",
    "]\n",
    "corpus"
   ]
  },
  {
   "cell_type": "code",
   "execution_count": 12,
   "metadata": {},
   "outputs": [],
   "source": [
    "import pandas as pd\n",
    "corpus=pd.DataFrame(corpus, columns=[\"Sentence\"])"
   ]
  },
  {
   "cell_type": "code",
   "execution_count": 50,
   "metadata": {},
   "outputs": [
    {
     "data": {
      "text/html": [
       "<div>\n",
       "<style scoped>\n",
       "    .dataframe tbody tr th:only-of-type {\n",
       "        vertical-align: middle;\n",
       "    }\n",
       "\n",
       "    .dataframe tbody tr th {\n",
       "        vertical-align: top;\n",
       "    }\n",
       "\n",
       "    .dataframe thead th {\n",
       "        text-align: right;\n",
       "    }\n",
       "</style>\n",
       "<table border=\"1\" class=\"dataframe\">\n",
       "  <thead>\n",
       "    <tr style=\"text-align: right;\">\n",
       "      <th></th>\n",
       "      <th>Sentence</th>\n",
       "    </tr>\n",
       "  </thead>\n",
       "  <tbody>\n",
       "    <tr>\n",
       "      <th>0</th>\n",
       "      <td>Machine learning is transforming the way we so...</td>\n",
       "    </tr>\n",
       "    <tr>\n",
       "      <th>1</th>\n",
       "      <td>Artificial intelligence is revolutionizing ind...</td>\n",
       "    </tr>\n",
       "    <tr>\n",
       "      <th>2</th>\n",
       "      <td>Data science enables us to extract insights fr...</td>\n",
       "    </tr>\n",
       "    <tr>\n",
       "      <th>3</th>\n",
       "      <td>Natural language processing helps computers un...</td>\n",
       "    </tr>\n",
       "    <tr>\n",
       "      <th>4</th>\n",
       "      <td>Deep learning algorithms are improving the acc...</td>\n",
       "    </tr>\n",
       "  </tbody>\n",
       "</table>\n",
       "</div>"
      ],
      "text/plain": [
       "                                            Sentence\n",
       "0  Machine learning is transforming the way we so...\n",
       "1  Artificial intelligence is revolutionizing ind...\n",
       "2  Data science enables us to extract insights fr...\n",
       "3  Natural language processing helps computers un...\n",
       "4  Deep learning algorithms are improving the acc..."
      ]
     },
     "execution_count": 50,
     "metadata": {},
     "output_type": "execute_result"
    }
   ],
   "source": [
    "corpus"
   ]
  },
  {
   "cell_type": "code",
   "execution_count": 4,
   "metadata": {},
   "outputs": [],
   "source": [
    "stop_words=stopwords.words('english')"
   ]
  },
  {
   "cell_type": "code",
   "execution_count": 9,
   "metadata": {},
   "outputs": [],
   "source": [
    "Lemmatizer=WordNetLemmatizer()"
   ]
  },
  {
   "cell_type": "code",
   "execution_count": 27,
   "metadata": {},
   "outputs": [],
   "source": [
    "Sentence=corpus[\"Sentence\"]"
   ]
  },
  {
   "cell_type": "code",
   "execution_count": 51,
   "metadata": {},
   "outputs": [
    {
     "data": {
      "text/plain": [
       "0    Machine learning is transforming the way we so...\n",
       "1    Artificial intelligence is revolutionizing ind...\n",
       "2    Data science enables us to extract insights fr...\n",
       "3    Natural language processing helps computers un...\n",
       "4    Deep learning algorithms are improving the acc...\n",
       "Name: Sentence, dtype: object"
      ]
     },
     "execution_count": 51,
     "metadata": {},
     "output_type": "execute_result"
    }
   ],
   "source": [
    "Sentence"
   ]
  },
  {
   "cell_type": "code",
   "execution_count": 57,
   "metadata": {},
   "outputs": [],
   "source": [
    "def preprocess_text(text):\n",
    "    text=text.lower()\n",
    "    text=text.translate(str.maketrans('','',string.punctuation)) \n",
    "    words=text.split(' ')\n",
    "    lst=[]\n",
    "    for word in words:\n",
    "        if word not in stop_words:\n",
    "            word=Lemmatizer.lemmatize(word)\n",
    "            lst.append(word)\n",
    "    return lst"
   ]
  },
  {
   "cell_type": "code",
   "execution_count": 67,
   "metadata": {},
   "outputs": [
    {
     "name": "stdout",
     "output_type": "stream",
     "text": [
      "machine\n",
      "learning\n",
      "transforming\n",
      "way\n",
      "solve\n",
      "problem\n",
      "artificial\n",
      "intelligence\n",
      "revolutionizing\n",
      "industry\n",
      "like\n",
      "healthcare\n",
      "finance\n",
      "data\n",
      "science\n",
      "enables\n",
      "u\n",
      "extract\n",
      "insight\n",
      "large\n",
      "datasets\n",
      "natural\n",
      "language\n",
      "processing\n",
      "help\n",
      "computer\n",
      "understand\n",
      "human\n",
      "language\n",
      "deep\n",
      "learning\n",
      "algorithm\n",
      "improving\n",
      "accuracy\n",
      "computer\n",
      "vision\n",
      "task\n"
     ]
    }
   ],
   "source": [
    "processed=Sentence.apply(preprocess_text)\n",
    "for text in processed:\n",
    "    for word in text:\n",
    "        print(word)"
   ]
  },
  {
   "cell_type": "code",
   "execution_count": 68,
   "metadata": {},
   "outputs": [],
   "source": [
    "sentence=[word for text in processed for word in text]"
   ]
  },
  {
   "cell_type": "code",
   "execution_count": 78,
   "metadata": {},
   "outputs": [],
   "source": [
    "bigrams=list(ngrams(sentence,2))"
   ]
  },
  {
   "cell_type": "code",
   "execution_count": 80,
   "metadata": {},
   "outputs": [],
   "source": [
    "bigram_freq=FreqDist(bigrams)"
   ]
  },
  {
   "cell_type": "code",
   "execution_count": 81,
   "metadata": {},
   "outputs": [],
   "source": [
    "top_bigrams=bigram_freq.most_common(5)"
   ]
  },
  {
   "cell_type": "code",
   "execution_count": 82,
   "metadata": {},
   "outputs": [
    {
     "data": {
      "text/plain": [
       "[(('machine', 'learning'), 1),\n",
       " (('learning', 'transforming'), 1),\n",
       " (('transforming', 'way'), 1),\n",
       " (('way', 'solve'), 1),\n",
       " (('solve', 'problem'), 1)]"
      ]
     },
     "execution_count": 82,
     "metadata": {},
     "output_type": "execute_result"
    }
   ],
   "source": [
    "top_bigrams"
   ]
  },
  {
   "cell_type": "code",
   "execution_count": 86,
   "metadata": {},
   "outputs": [
    {
     "name": "stdout",
     "output_type": "stream",
     "text": [
      "X: 1 Y: machine learning\n",
      "X: 1 Y: learning transforming\n",
      "X: 1 Y: transforming way\n",
      "X: 1 Y: way solve\n",
      "X: 1 Y: solve problem\n"
     ]
    }
   ],
   "source": [
    "for bigram,counts in top_bigrams:\n",
    "    print(\"X:\",counts,\"Y:\",bigram[0],bigram[1])"
   ]
  }
 ],
 "metadata": {
  "kernelspec": {
   "display_name": "Python 3",
   "language": "python",
   "name": "python3"
  },
  "language_info": {
   "codemirror_mode": {
    "name": "ipython",
    "version": 3
   },
   "file_extension": ".py",
   "mimetype": "text/x-python",
   "name": "python",
   "nbconvert_exporter": "python",
   "pygments_lexer": "ipython3",
   "version": "3.10.16"
  }
 },
 "nbformat": 4,
 "nbformat_minor": 2
}
